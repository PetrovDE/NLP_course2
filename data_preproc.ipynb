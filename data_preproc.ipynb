{
 "cells": [
  {
   "cell_type": "code",
   "execution_count": 2,
   "id": "initial_id",
   "metadata": {
    "collapsed": true,
    "ExecuteTime": {
     "end_time": "2024-02-23T13:53:00.671338500Z",
     "start_time": "2024-02-23T13:53:00.665767600Z"
    }
   },
   "outputs": [],
   "source": [
    "import pandas as pd\n",
    "from bs4 import BeautifulSoup\n",
    "import requests\n",
    "\n",
    "from tqdm import tqdm\n",
    "import pickle"
   ]
  },
  {
   "cell_type": "code",
   "outputs": [
    {
     "name": "stderr",
     "output_type": "stream",
     "text": [
      "100%|██████████| 231/231 [03:39<00:00,  1.05it/s]\n"
     ]
    }
   ],
   "source": [
    "url = 'https://bigbangtrans.wordpress.com/'\n",
    "response = requests.get(url)\n",
    "if response.status_code != 200:\n",
    "    raise Exception(f'wrong status code {response.status_code}')\n",
    "else:\n",
    "    bs = BeautifulSoup(response.text,\"html\")\n",
    "    temps_href = bs.findAll(\"li\", {\"class\": \"page_item\"})\n",
    "    temps_href = temps_href[1:]\n",
    "    temps_href = [[tmp.a['href'], tmp.text] for tmp in temps_href]\n",
    "    \n",
    "out_list = []\n",
    "\n",
    "for url_h, name in tqdm(temps_href):\n",
    "    response_h = requests.get(url_h)\n",
    "    bs_h = BeautifulSoup(response_h.text,\"html\")\n",
    "    temps = bs_h.findAll(\"p\", {\"class\": \"MsoNormal\"})\n",
    "    temps = [temp.text for temp in temps]\n",
    "    \n",
    "    if len(temps) == 0:\n",
    "        parent = bs_h.find(\"div\", {\"class\": \"entrytext\"})\n",
    "        temps = parent.findAll('p')\n",
    "        temps = [temp.text for temp in temps]\n",
    "    \n",
    "    for i, temp in enumerate(temps):\n",
    "        if temp.find('Sheldon:') == 0:\n",
    "            if i == 0: continue\n",
    "            if i == 1:\n",
    "                out_list.append([name, '', temps[i-1], temp])\n",
    "            else:\n",
    "                out_list.append([name, temps[i-2], temps[i-1], temp])\n",
    "\n",
    "out_df = pd.DataFrame(out_list, columns=['name', 'context', 'question', 'answer'])\n",
    "out_df['label'] = 1\n",
    "df2 = out_df.copy(deep=True)\n",
    "df2['answer'] = df2['answer'].iloc[::-1].reset_index(drop=True)\n",
    "df2['label'] = 0\n",
    "df_all = pd.concat([out_df, df2])\n",
    "df_all.to_csv('data/BBT_sheldon_all.csv', index=False)\n",
    "\n",
    "dataset_dict = df_all.to_dict(orient='records')\n",
    "with open('data/dataset.pkl', 'wb') as file:\n",
    "    pickle.dump(dataset_dict, file)"
   ],
   "metadata": {
    "collapsed": false,
    "ExecuteTime": {
     "end_time": "2024-02-21T13:42:30.947345200Z",
     "start_time": "2024-02-21T13:38:50.754556Z"
    }
   },
   "id": "10e8fbcdd9421819",
   "execution_count": 141
  }
 ],
 "metadata": {
  "kernelspec": {
   "display_name": "Python 3",
   "language": "python",
   "name": "python3"
  },
  "language_info": {
   "codemirror_mode": {
    "name": "ipython",
    "version": 2
   },
   "file_extension": ".py",
   "mimetype": "text/x-python",
   "name": "python",
   "nbconvert_exporter": "python",
   "pygments_lexer": "ipython2",
   "version": "2.7.6"
  }
 },
 "nbformat": 4,
 "nbformat_minor": 5
}
